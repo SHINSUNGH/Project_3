{
 "cells": [
  {
   "cell_type": "code",
   "execution_count": 1,
   "metadata": {},
   "outputs": [],
   "source": [
    "import pandas as pd"
   ]
  },
  {
   "cell_type": "code",
   "execution_count": 15,
   "metadata": {},
   "outputs": [],
   "source": [
    "usage_2021 = pd.read_csv('usage_2021.csv')\n",
    "usage_2022 = pd.read_csv('usage_2022.csv')\n",
    "weather = pd.read_csv('weather_day_df.csv')"
   ]
  },
  {
   "cell_type": "code",
   "execution_count": 20,
   "metadata": {},
   "outputs": [],
   "source": [
    "usage_2021['Unnamed: 0'] = 2021\n",
    "usage_2022['Unnamed: 0'] = 2022"
   ]
  },
  {
   "cell_type": "code",
   "execution_count": 30,
   "metadata": {},
   "outputs": [],
   "source": [
    "usage = pd.concat([usage_2021, usage_2022])\n",
    "usage.rename(columns = {'Unnamed: 0' : 'year'}, inplace = True)\n",
    "usage.rename(columns = {'date' : 'day'}, inplace = True)"
   ]
  },
  {
   "cell_type": "code",
   "execution_count": 31,
   "metadata": {},
   "outputs": [
    {
     "data": {
      "text/plain": [
       "Index(['Unnamed: 0', 'year', 'month', 'day', 'temp', 'cloud', 'rainfall_total',\n",
       "       'Humidity_mean', 'solar'],\n",
       "      dtype='object')"
      ]
     },
     "execution_count": 31,
     "metadata": {},
     "output_type": "execute_result"
    }
   ],
   "source": [
    "weather.columns"
   ]
  },
  {
   "cell_type": "code",
   "execution_count": 32,
   "metadata": {},
   "outputs": [
    {
     "data": {
      "text/plain": [
       "Index(['year', 'month', 'day', 'customer', 'demand_max(Wh)', 'usage(kWh)'], dtype='object')"
      ]
     },
     "execution_count": 32,
     "metadata": {},
     "output_type": "execute_result"
    }
   ],
   "source": [
    "usage.columns"
   ]
  },
  {
   "cell_type": "code",
   "execution_count": 35,
   "metadata": {},
   "outputs": [],
   "source": [
    "df = pd.merge(weather, usage, on = ['year', 'month', 'day'], how = 'left')"
   ]
  },
  {
   "cell_type": "code",
   "execution_count": 34,
   "metadata": {},
   "outputs": [
    {
     "data": {
      "text/html": [
       "<div>\n",
       "<style scoped>\n",
       "    .dataframe tbody tr th:only-of-type {\n",
       "        vertical-align: middle;\n",
       "    }\n",
       "\n",
       "    .dataframe tbody tr th {\n",
       "        vertical-align: top;\n",
       "    }\n",
       "\n",
       "    .dataframe thead th {\n",
       "        text-align: right;\n",
       "    }\n",
       "</style>\n",
       "<table border=\"1\" class=\"dataframe\">\n",
       "  <thead>\n",
       "    <tr style=\"text-align: right;\">\n",
       "      <th></th>\n",
       "      <th>Unnamed: 0</th>\n",
       "      <th>year</th>\n",
       "      <th>month</th>\n",
       "      <th>day</th>\n",
       "      <th>temp</th>\n",
       "      <th>cloud</th>\n",
       "      <th>rainfall_total</th>\n",
       "      <th>Humidity_mean</th>\n",
       "      <th>solar</th>\n",
       "      <th>customer</th>\n",
       "      <th>demand_max(Wh)</th>\n",
       "      <th>usage(kWh)</th>\n",
       "    </tr>\n",
       "  </thead>\n",
       "  <tbody>\n",
       "    <tr>\n",
       "      <th>0</th>\n",
       "      <td>0</td>\n",
       "      <td>2021</td>\n",
       "      <td>1</td>\n",
       "      <td>1</td>\n",
       "      <td>-0.6</td>\n",
       "      <td>7.3</td>\n",
       "      <td>0.0</td>\n",
       "      <td>83.1</td>\n",
       "      <td>9.00</td>\n",
       "      <td>783260</td>\n",
       "      <td>49,968,118.15</td>\n",
       "      <td>11,154,070.87</td>\n",
       "    </tr>\n",
       "    <tr>\n",
       "      <th>1</th>\n",
       "      <td>1</td>\n",
       "      <td>2021</td>\n",
       "      <td>1</td>\n",
       "      <td>2</td>\n",
       "      <td>-0.3</td>\n",
       "      <td>3.8</td>\n",
       "      <td>0.5</td>\n",
       "      <td>67.8</td>\n",
       "      <td>12.54</td>\n",
       "      <td>783281</td>\n",
       "      <td>43,576,388.06</td>\n",
       "      <td>10,820,313.94</td>\n",
       "    </tr>\n",
       "    <tr>\n",
       "      <th>2</th>\n",
       "      <td>2</td>\n",
       "      <td>2021</td>\n",
       "      <td>1</td>\n",
       "      <td>3</td>\n",
       "      <td>-0.6</td>\n",
       "      <td>7.3</td>\n",
       "      <td>0.0</td>\n",
       "      <td>54.6</td>\n",
       "      <td>10.37</td>\n",
       "      <td>783288</td>\n",
       "      <td>44,345,831.21</td>\n",
       "      <td>10,577,876.27</td>\n",
       "    </tr>\n",
       "    <tr>\n",
       "      <th>3</th>\n",
       "      <td>3</td>\n",
       "      <td>2021</td>\n",
       "      <td>1</td>\n",
       "      <td>4</td>\n",
       "      <td>1.2</td>\n",
       "      <td>3.1</td>\n",
       "      <td>0.0</td>\n",
       "      <td>71.8</td>\n",
       "      <td>10.07</td>\n",
       "      <td>783288</td>\n",
       "      <td>49,666,971.53</td>\n",
       "      <td>11,410,542.58</td>\n",
       "    </tr>\n",
       "    <tr>\n",
       "      <th>4</th>\n",
       "      <td>4</td>\n",
       "      <td>2021</td>\n",
       "      <td>1</td>\n",
       "      <td>5</td>\n",
       "      <td>-0.2</td>\n",
       "      <td>8.0</td>\n",
       "      <td>0.0</td>\n",
       "      <td>64.9</td>\n",
       "      <td>7.74</td>\n",
       "      <td>783310</td>\n",
       "      <td>44,114,435.78</td>\n",
       "      <td>11,097,614.74</td>\n",
       "    </tr>\n",
       "    <tr>\n",
       "      <th>...</th>\n",
       "      <td>...</td>\n",
       "      <td>...</td>\n",
       "      <td>...</td>\n",
       "      <td>...</td>\n",
       "      <td>...</td>\n",
       "      <td>...</td>\n",
       "      <td>...</td>\n",
       "      <td>...</td>\n",
       "      <td>...</td>\n",
       "      <td>...</td>\n",
       "      <td>...</td>\n",
       "      <td>...</td>\n",
       "    </tr>\n",
       "    <tr>\n",
       "      <th>725</th>\n",
       "      <td>725</td>\n",
       "      <td>2022</td>\n",
       "      <td>12</td>\n",
       "      <td>27</td>\n",
       "      <td>0.3</td>\n",
       "      <td>1.8</td>\n",
       "      <td>0.0</td>\n",
       "      <td>74.1</td>\n",
       "      <td>13.08</td>\n",
       "      <td>800308</td>\n",
       "      <td>31,743,683.54</td>\n",
       "      <td>9,442,942.40</td>\n",
       "    </tr>\n",
       "    <tr>\n",
       "      <th>726</th>\n",
       "      <td>726</td>\n",
       "      <td>2022</td>\n",
       "      <td>12</td>\n",
       "      <td>28</td>\n",
       "      <td>-0.2</td>\n",
       "      <td>5.3</td>\n",
       "      <td>0.0</td>\n",
       "      <td>75.4</td>\n",
       "      <td>9.62</td>\n",
       "      <td>802036</td>\n",
       "      <td>32,641,190.23</td>\n",
       "      <td>9,679,363.18</td>\n",
       "    </tr>\n",
       "    <tr>\n",
       "      <th>727</th>\n",
       "      <td>727</td>\n",
       "      <td>2022</td>\n",
       "      <td>12</td>\n",
       "      <td>29</td>\n",
       "      <td>0.7</td>\n",
       "      <td>2.1</td>\n",
       "      <td>0.0</td>\n",
       "      <td>63.3</td>\n",
       "      <td>12.25</td>\n",
       "      <td>803784</td>\n",
       "      <td>58,820,056.15</td>\n",
       "      <td>11,754,265.48</td>\n",
       "    </tr>\n",
       "    <tr>\n",
       "      <th>728</th>\n",
       "      <td>728</td>\n",
       "      <td>2022</td>\n",
       "      <td>12</td>\n",
       "      <td>30</td>\n",
       "      <td>1.0</td>\n",
       "      <td>6.3</td>\n",
       "      <td>0.0</td>\n",
       "      <td>70.4</td>\n",
       "      <td>9.25</td>\n",
       "      <td>805066</td>\n",
       "      <td>52,733,978.57</td>\n",
       "      <td>12,149,583.10</td>\n",
       "    </tr>\n",
       "    <tr>\n",
       "      <th>729</th>\n",
       "      <td>729</td>\n",
       "      <td>2022</td>\n",
       "      <td>12</td>\n",
       "      <td>31</td>\n",
       "      <td>1.4</td>\n",
       "      <td>1.4</td>\n",
       "      <td>0.0</td>\n",
       "      <td>66.1</td>\n",
       "      <td>12.02</td>\n",
       "      <td>805564</td>\n",
       "      <td>44,225,974.10</td>\n",
       "      <td>11,472,992.97</td>\n",
       "    </tr>\n",
       "  </tbody>\n",
       "</table>\n",
       "<p>730 rows × 12 columns</p>\n",
       "</div>"
      ],
      "text/plain": [
       "     Unnamed: 0  year  month  day  temp  cloud  rainfall_total  Humidity_mean  \\\n",
       "0             0  2021      1    1  -0.6    7.3             0.0           83.1   \n",
       "1             1  2021      1    2  -0.3    3.8             0.5           67.8   \n",
       "2             2  2021      1    3  -0.6    7.3             0.0           54.6   \n",
       "3             3  2021      1    4   1.2    3.1             0.0           71.8   \n",
       "4             4  2021      1    5  -0.2    8.0             0.0           64.9   \n",
       "..          ...   ...    ...  ...   ...    ...             ...            ...   \n",
       "725         725  2022     12   27   0.3    1.8             0.0           74.1   \n",
       "726         726  2022     12   28  -0.2    5.3             0.0           75.4   \n",
       "727         727  2022     12   29   0.7    2.1             0.0           63.3   \n",
       "728         728  2022     12   30   1.0    6.3             0.0           70.4   \n",
       "729         729  2022     12   31   1.4    1.4             0.0           66.1   \n",
       "\n",
       "     solar  customer demand_max(Wh)     usage(kWh)  \n",
       "0     9.00    783260  49,968,118.15  11,154,070.87  \n",
       "1    12.54    783281  43,576,388.06  10,820,313.94  \n",
       "2    10.37    783288  44,345,831.21  10,577,876.27  \n",
       "3    10.07    783288  49,666,971.53  11,410,542.58  \n",
       "4     7.74    783310  44,114,435.78  11,097,614.74  \n",
       "..     ...       ...            ...            ...  \n",
       "725  13.08    800308  31,743,683.54   9,442,942.40  \n",
       "726   9.62    802036  32,641,190.23   9,679,363.18  \n",
       "727  12.25    803784  58,820,056.15  11,754,265.48  \n",
       "728   9.25    805066  52,733,978.57  12,149,583.10  \n",
       "729  12.02    805564  44,225,974.10  11,472,992.97  \n",
       "\n",
       "[730 rows x 12 columns]"
      ]
     },
     "execution_count": 34,
     "metadata": {},
     "output_type": "execute_result"
    }
   ],
   "source": [
    "df"
   ]
  },
  {
   "cell_type": "code",
   "execution_count": 36,
   "metadata": {},
   "outputs": [],
   "source": [
    "df.to_csv('usage_by_weather.csv')"
   ]
  },
  {
   "cell_type": "code",
   "execution_count": null,
   "metadata": {},
   "outputs": [],
   "source": []
  }
 ],
 "metadata": {
  "kernelspec": {
   "display_name": "base",
   "language": "python",
   "name": "python3"
  },
  "language_info": {
   "codemirror_mode": {
    "name": "ipython",
    "version": 3
   },
   "file_extension": ".py",
   "mimetype": "text/x-python",
   "name": "python",
   "nbconvert_exporter": "python",
   "pygments_lexer": "ipython3",
   "version": "3.9.13"
  },
  "orig_nbformat": 4
 },
 "nbformat": 4,
 "nbformat_minor": 2
}
